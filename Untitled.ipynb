{
 "cells": [
  {
   "cell_type": "code",
   "execution_count": 2,
   "metadata": {},
   "outputs": [
    {
     "name": "stdout",
     "output_type": "stream",
     "text": [
      "           Date     Open     High      Low    Close       Volume  \\\n",
      "0  Feb 20, 2018  1543.27  1569.03  1414.35  1418.73  820,947,000   \n",
      "1  Feb 19, 2018  1483.34  1553.81  1483.34  1534.77  578,906,000   \n",
      "2  Feb 18, 2018  1552.10  1641.40  1428.49  1487.46  907,873,000   \n",
      "3  Feb 17, 2018  1548.48  1568.64  1517.14  1551.39  641,719,000   \n",
      "4  Feb 16, 2018  1373.16  1558.66  1369.68  1552.20  961,010,000   \n",
      "\n",
      "       Market Cap  \n",
      "0  26,199,800,000  \n",
      "1  25,179,700,000  \n",
      "2  26,344,200,000  \n",
      "3  26,280,100,000  \n",
      "4  23,302,000,000  \n"
     ]
    },
    {
     "data": {
      "text/plain": [
       "<Figure size 1000x1000 with 1 Axes>"
      ]
     },
     "metadata": {},
     "output_type": "display_data"
    },
    {
     "name": "stdout",
     "output_type": "stream",
     "text": [
      "score: 0.9999691792285232\n"
     ]
    }
   ],
   "source": [
    "import pandas as pd\n",
    "import numpy as np\n",
    "import matplotlib.pyplot as plt\n",
    "from sklearn.model_selection import RepeatedKFold\n",
    "from sklearn import linear_model\n",
    "from sklearn.model_selection import train_test_split\n",
    "dataset=pd.read_csv('bitcoin_cash_price.csv')\n",
    "print(dataset.head())\n",
    "dataset.drop(dataset.index[[203,204,205,206,207,208,209,210,211,212]],inplace=True)\n",
    "#print(dataset.dtypes)\n",
    "dataset[\"Volume\"] = dataset[\"Volume\"].str.replace(\",\",\"\").astype(float)\n",
    "#print(dataset.dtypes)\n",
    "dataset[\"Market Cap\"] = dataset[\"Market Cap\"].str.replace(\",\",\"\").astype(float)\n",
    "dataset.rename(columns={\"Market Cap\":\"Marketcap\"},inplace=True)\n",
    "#print(dataset)\n",
    "#dataset['Marketcap'] = dataset.Marketcap.astype(float)\n",
    "#print(type(dataset['Marketcap']))\n",
    "#pd.to_numeric(dataset[\"Market Cap\"], errors='coerce')\n",
    "#dataset[\"Market Cap\"]=dataset[\"Market Cap\"].astype('float64',raise_on_error = False)\n",
    "#re.sub('[\\$,]', '',dataset['Volume'])\n",
    "##print(dataset['Marketcap'])\n",
    "#x=[1,5,4,2]\n",
    "#plt.plot(x)\n",
    "#print(dataset['Volume'])\n",
    "plt.figure(figsize=(10,10))\n",
    "plt.scatter(dataset['Open'],dataset['Marketcap'])\n",
    "##plt.plot(dataset['Marketcap'])\n",
    "#plt.ylabel(\"volume\")\n",
    "plt.show()\n",
    "#marketcap=[dataset['Market Cap']]\n",
    "#print(type(marketcap))\n",
    "#date=[dataset['Date']]\n",
    "#plt(marketcap)\n",
    "#plt.xticks(range(len(date)), date)\n",
    "#plt.show()\n",
    "array = dataset.values\n",
    "X = array[:,1:6]\n",
    "Y = array[:,6]\n",
    "test_size = 0.3\n",
    "X_train, X_test, Y_train, Y_test = train_test_split(X, Y, test_size=test_size)\n",
    "lm = linear_model.LinearRegression()\n",
    "model = lm.fit(X_train, Y_train)\n",
    "print('score:', model.score(X_test, Y_test))\n",
    "#rkf=RepeatedKFold(n_splits=10, n_repeats=5, random_state=None)\n",
    "#for train_index, test_index in rkf.split(X):\n",
    "    #X_train, X_test = X[train_index], X[test_index]\n",
    "    #y_train, y_test = y[train_index], y[test_index]\n",
    "    #model = lm.fit(X_train, y_train)\n",
    "    #print('score:', model.score(X_test, y_test))\n",
    "\n",
    "    "
   ]
  },
  {
   "cell_type": "code",
   "execution_count": 1,
   "metadata": {},
   "outputs": [
    {
     "data": {
      "text/plain": [
       "'/Users/gouryrajsrinivas/Desktop/bitcoin'"
      ]
     },
     "execution_count": 1,
     "metadata": {},
     "output_type": "execute_result"
    }
   ],
   "source": [
    "pwd"
   ]
  },
  {
   "cell_type": "code",
   "execution_count": 3,
   "metadata": {},
   "outputs": [],
   "source": [
    "f=\"srinivas\"\n",
    "op=open(f,'wb')\n",
    "import pickle\n",
    "pickle.dump(model,op)\n",
    "op.close()\n",
    "ip=open('srinivas','rb')\n",
    "m=pickle.load(ip)\n",
    "ip.close()"
   ]
  },
  {
   "cell_type": "code",
   "execution_count": 4,
   "metadata": {},
   "outputs": [
    {
     "data": {
      "text/plain": [
       "Date          object\n",
       "Open         float64\n",
       "High         float64\n",
       "Low          float64\n",
       "Close        float64\n",
       "Volume       float64\n",
       "Marketcap    float64\n",
       "dtype: object"
      ]
     },
     "execution_count": 4,
     "metadata": {},
     "output_type": "execute_result"
    }
   ],
   "source": [
    "dataset.dtypes"
   ]
  },
  {
   "cell_type": "code",
   "execution_count": 6,
   "metadata": {},
   "outputs": [
    {
     "data": {
      "text/plain": [
       "array([1543.27, 1569.03, 1414.35, 1418.73, 820947000.0], dtype=object)"
      ]
     },
     "execution_count": 6,
     "metadata": {},
     "output_type": "execute_result"
    }
   ],
   "source": [
    "X[0]"
   ]
  },
  {
   "cell_type": "code",
   "execution_count": null,
   "metadata": {},
   "outputs": [],
   "source": []
  }
 ],
 "metadata": {
  "kernelspec": {
   "display_name": "Python 3",
   "language": "python",
   "name": "python3"
  },
  "language_info": {
   "codemirror_mode": {
    "name": "ipython",
    "version": 3
   },
   "file_extension": ".py",
   "mimetype": "text/x-python",
   "name": "python",
   "nbconvert_exporter": "python",
   "pygments_lexer": "ipython3",
   "version": "3.6.5"
  }
 },
 "nbformat": 4,
 "nbformat_minor": 2
}
